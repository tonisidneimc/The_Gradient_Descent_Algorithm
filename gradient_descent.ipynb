{
  "nbformat": 4,
  "nbformat_minor": 0,
  "metadata": {
    "colab": {
      "provenance": []
    },
    "kernelspec": {
      "name": "python3",
      "display_name": "Python 3"
    },
    "language_info": {
      "name": "python"
    }
  },
  "cells": [
    {
      "cell_type": "markdown",
      "source": [
        "## Simple Linear Regression Example"
      ],
      "metadata": {
        "id": "ZjgicB8IGkth"
      }
    },
    {
      "cell_type": "markdown",
      "source": [
        "### Imports\n"
      ],
      "metadata": {
        "id": "sPPGvdTfHZON"
      }
    },
    {
      "cell_type": "code",
      "execution_count": 1,
      "metadata": {
        "id": "OeqPpcOqGevd"
      },
      "outputs": [],
      "source": [
        "import numpy as np\n",
        "import matplotlib.pyplot as plt\n",
        "import math\n",
        "\n",
        "%matplotlib inline"
      ]
    },
    {
      "cell_type": "markdown",
      "source": [
        "### Data"
      ],
      "metadata": {
        "id": "rRp_Y6E2HNOz"
      }
    },
    {
      "cell_type": "code",
      "source": [
        "# input your data here\n",
        "X = [0.5, 2.2, 2.0]\n",
        "y = [2.0, 2.5, 1.4]"
      ],
      "metadata": {
        "id": "lQ0z-I8tHL9b"
      },
      "execution_count": 65,
      "outputs": []
    },
    {
      "cell_type": "markdown",
      "source": [
        "### Learning Rate (Gradient Descent Rate)\n",
        "\n",
        "<img src=\"data:image/png;base64,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\" width=\"60\">"
      ],
      "metadata": {
        "id": "viC8cLADHo_h"
      }
    },
    {
      "cell_type": "code",
      "source": [
        "alpha = 0.01"
      ],
      "metadata": {
        "id": "wB8u605eIS7D"
      },
      "execution_count": 3,
      "outputs": []
    },
    {
      "cell_type": "markdown",
      "source": [
        "### Initial values for $w_0$ and $w_1$"
      ],
      "metadata": {
        "id": "cgrMIBodJUoL"
      }
    },
    {
      "cell_type": "code",
      "source": [
        "w0 = 0.1\n",
        "w1 = 0.1"
      ],
      "metadata": {
        "id": "FAnYPRNhJwK8"
      },
      "execution_count": 82,
      "outputs": []
    },
    {
      "cell_type": "markdown",
      "source": [
        "### Defining the Hypothesis\n",
        "\n",
        "$$ŷ = w_0 + w_1x$$\n"
      ],
      "metadata": {
        "id": "9g1r12P9KG1U"
      }
    },
    {
      "cell_type": "code",
      "source": [
        "def y_hat(x, w0, w1):\n",
        "  return w0 + w1*x"
      ],
      "metadata": {
        "id": "I1qiBYUiKKPf"
      },
      "execution_count": 61,
      "outputs": []
    },
    {
      "cell_type": "code",
      "source": [
        "# Making a prediction still at a high cost\n",
        "y_hat(1.5, w0, w1)"
      ],
      "metadata": {
        "colab": {
          "base_uri": "https://localhost:8080/"
        },
        "id": "5VyIEEK8aTF2",
        "outputId": "7137680e-28dc-44c3-d5e8-0171c40aa13d"
      },
      "execution_count": 66,
      "outputs": [
        {
          "output_type": "execute_result",
          "data": {
            "text/plain": [
              "0.25"
            ]
          },
          "metadata": {},
          "execution_count": 66
        }
      ]
    },
    {
      "cell_type": "markdown",
      "source": [
        "### Function to plot points and regression"
      ],
      "metadata": {
        "id": "enoVgnvgahv6"
      }
    },
    {
      "cell_type": "code",
      "source": [
        "def plot_line(X, y, w0, w1):\n",
        "  x_values = [i for i in range(int(min(X))-1, int(max(X))+2)]\n",
        "  y_values = [y_hat(x, w0, w1) for x in x_values]\n",
        "  plt.plot(x_values, y_values, \"r\")\n",
        "  plt.plot(X, y, \"bo\")"
      ],
      "metadata": {
        "id": "TUcEauWKamNx"
      },
      "execution_count": 67,
      "outputs": []
    },
    {
      "cell_type": "code",
      "source": [
        "plot_line(X, y, w0, w1)"
      ],
      "metadata": {
        "colab": {
          "base_uri": "https://localhost:8080/",
          "height": 430
        },
        "id": "eJGelVFcc7R2",
        "outputId": "e42f1e93-5a2f-4854-a012-acca4a8fe855"
      },
      "execution_count": 68,
      "outputs": [
        {
          "output_type": "display_data",
          "data": {
            "text/plain": [
              "<Figure size 640x480 with 1 Axes>"
            ],
            "image/png": "[encoded data removed]"
          },
          "metadata": {}
        }
      ]
    },
    {
      "cell_type": "markdown",
      "source": [
        "### Mean Squared Error function (MSE)"
      ],
      "metadata": {
        "id": "nZI9rx_UbkLB"
      }
    },
    {
      "cell_type": "code",
      "source": [
        "def MSE(X, Y, w0, w1):\n",
        "  custo = 0\n",
        "  m = float(len(X))\n",
        "\n",
        "  for i in range(0, len(X)):\n",
        "    custo += (y_hat(X[i], w0, w1) - y[i])**2\n",
        "\n",
        "  return custo / m"
      ],
      "metadata": {
        "id": "v_sbe8HWbwXQ"
      },
      "execution_count": 69,
      "outputs": []
    },
    {
      "cell_type": "code",
      "source": [
        "MSE(X, y, w0, w1)"
      ],
      "metadata": {
        "colab": {
          "base_uri": "https://localhost:8080/"
        },
        "id": "eMruBOpIddop",
        "outputId": "521fc2b5-b6e3-4a37-f597-64f53904a0ed"
      },
      "execution_count": 70,
      "outputs": [
        {
          "output_type": "execute_result",
          "data": {
            "text/plain": [
              "3.1282999999999994"
            ]
          },
          "metadata": {},
          "execution_count": 70
        }
      ]
    },
    {
      "cell_type": "markdown",
      "source": [
        "### Gradient Descent"
      ],
      "metadata": {
        "id": "QATIAy0ecymQ"
      }
    },
    {
      "cell_type": "code",
      "source": [
        "def gradient_descent_step(w0, w1, X, y, alpha):\n",
        "\n",
        "  w0_error = 0\n",
        "  w1_error = 0\n",
        "  m = float(len(X))\n",
        "\n",
        "  for i in range(0, len(X)):\n",
        "    w0_error += y_hat(X[i], w0, w1) - y[i]\n",
        "    w1_error += (y_hat(X[i], w0, w1) - y[i]) * X[i]\n",
        "\n",
        "  new_w0 = w0 - alpha * (1/m) * w0_error\n",
        "  new_w1 = w1 - alpha * (1/m) * w1_error\n",
        "\n",
        "  return new_w0, new_w1"
      ],
      "metadata": {
        "id": "R5qoLBK7c1A3"
      },
      "execution_count": 71,
      "outputs": []
    },
    {
      "cell_type": "code",
      "source": [
        "#w0, w1 = gradient_descent_step(w0, w1, x, y, alpha)"
      ],
      "metadata": {
        "id": "V8GC_ef6fMe0"
      },
      "execution_count": 46,
      "outputs": []
    },
    {
      "cell_type": "code",
      "source": [
        "#print(f\"w0={w0}, w1={w1}\")"
      ],
      "metadata": {
        "colab": {
          "base_uri": "https://localhost:8080/"
        },
        "id": "bTAulCcAfVhg",
        "outputId": "4b3f65be-1c8f-451b-f7e4-5e972b07c944"
      },
      "execution_count": 47,
      "outputs": [
        {
          "output_type": "stream",
          "name": "stdout",
          "text": [
            "w0=0.10366666666666667, w1=0.10733333333333334\n"
          ]
        }
      ]
    },
    {
      "cell_type": "markdown",
      "source": [
        "### Gradient Descent Loop"
      ],
      "metadata": {
        "id": "yLBe9VvbgI9S"
      }
    },
    {
      "cell_type": "code",
      "source": [
        "# number of iterations\n",
        "epoch = 900 # you can choose what value fits better for you dataset"
      ],
      "metadata": {
        "id": "xKoQG8g-gMuv"
      },
      "execution_count": 85,
      "outputs": []
    },
    {
      "cell_type": "code",
      "source": [
        "def gradient_descent(w0, w1, X, y, alpha, epoch):\n",
        "  cost = np.zeros(epoch)\n",
        "  for i in range(epoch):\n",
        "    w0, w1 = gradient_descent_step(w0, w1, X, y, alpha)\n",
        "    cost[i] = MSE(X, y, w0, w1)\n",
        "\n",
        "  return w0, w1, cost"
      ],
      "metadata": {
        "id": "wFx0n_08gQCB"
      },
      "execution_count": 72,
      "outputs": []
    },
    {
      "cell_type": "code",
      "source": [
        "w0, w1, cost = gradient_descent(w0, w1, X, y, alpha, epoch)"
      ],
      "metadata": {
        "id": "jsSUiG5NhAf5"
      },
      "execution_count": 86,
      "outputs": []
    },
    {
      "cell_type": "code",
      "source": [
        "for i in range(min(30, epoch)):\n",
        "  print(f\"iteration #{i+1}, cost = {cost[i]}\")\n",
        "print(\"...\")\n",
        "for i in range(max(epoch-30,0), epoch):\n",
        "  print(f\"iteration #{i+1}, cost = {cost[i]}\")"
      ],
      "metadata": {
        "colab": {
          "base_uri": "https://localhost:8080/"
        },
        "id": "KLjHin1pstau",
        "outputId": "f9377923-4608-4d59-e350-0ef919e23038"
      },
      "execution_count": 87,
      "outputs": [
        {
          "output_type": "stream",
          "name": "stdout",
          "text": [
            "iteration #1, cost = 2.934210220491444\n",
            "iteration #2, cost = 2.75481097617742\n",
            "iteration #3, cost = 2.588984161673849\n",
            "iteration #4, cost = 2.4356967897059305\n",
            "iteration #5, cost = 2.293994511259514\n",
            "iteration #6, cost = 2.1629956290288015\n",
            "iteration #7, cost = 2.0418855666068634\n",
            "iteration #8, cost = 1.9299117587242636\n",
            "iteration #9, cost = 1.826378930482366\n",
            "iteration #10, cost = 1.7306447359680137\n",
            "iteration #11, cost = 1.6421157288906911\n",
            "iteration #12, cost = 1.5602436399660433\n",
            "iteration #13, cost = 1.4845219376938301\n",
            "iteration #14, cost = 1.4144826509561452\n",
            "iteration #15, cost = 1.3496934335040967\n",
            "iteration #16, cost = 1.2897548519185358\n",
            "iteration #17, cost = 1.2342978800322455\n",
            "iteration #18, cost = 1.1829815840961448\n",
            "iteration #19, cost = 1.1354909841685978\n",
            "iteration #20, cost = 1.0915350783123503\n",
            "iteration #21, cost = 1.0508450172049186\n",
            "iteration #22, cost = 1.0131724177117951\n",
            "iteration #23, cost = 0.9782878048435322\n",
            "iteration #24, cost = 0.9459791723231428\n",
            "iteration #25, cost = 0.9160506527342632\n",
            "iteration #26, cost = 0.8883212889079553\n",
            "iteration #27, cost = 0.8626238988410676\n",
            "iteration #28, cost = 0.838804027025812\n",
            "iteration #29, cost = 0.8167189756122637\n",
            "iteration #30, cost = 0.7962369093262804\n",
            "...\n",
            "iteration #871, cost = 0.23119617247581534\n",
            "iteration #872, cost = 0.2311084781024498\n",
            "iteration #873, cost = 0.2310210435905621\n",
            "iteration #874, cost = 0.23093386817011438\n",
            "iteration #875, cost = 0.23084695107335038\n",
            "iteration #876, cost = 0.23076029153478905\n",
            "iteration #877, cost = 0.2306738887912184\n",
            "iteration #878, cost = 0.23058774208168675\n",
            "iteration #879, cost = 0.2305018506474982\n",
            "iteration #880, cost = 0.23041621373220458\n",
            "iteration #881, cost = 0.23033083058159987\n",
            "iteration #882, cost = 0.23024570044371248\n",
            "iteration #883, cost = 0.23016082256879886\n",
            "iteration #884, cost = 0.23007619620933797\n",
            "iteration #885, cost = 0.22999182062002319\n",
            "iteration #886, cost = 0.22990769505775677\n",
            "iteration #887, cost = 0.22982381878164274\n",
            "iteration #888, cost = 0.2297401910529808\n",
            "iteration #889, cost = 0.2296568111352595\n",
            "iteration #890, cost = 0.2295736782941499\n",
            "iteration #891, cost = 0.2294907917974991\n",
            "iteration #892, cost = 0.22940815091532352\n",
            "iteration #893, cost = 0.2293257549198032\n",
            "iteration #894, cost = 0.22924360308527433\n",
            "iteration #895, cost = 0.2291616946882239\n",
            "iteration #896, cost = 0.22908002900728255\n",
            "iteration #897, cost = 0.228998605323219\n",
            "iteration #898, cost = 0.22891742291893236\n",
            "iteration #899, cost = 0.22883648107944768\n",
            "iteration #900, cost = 0.22875577909190783\n"
          ]
        }
      ]
    },
    {
      "cell_type": "markdown",
      "source": [
        "### Plotting the cost"
      ],
      "metadata": {
        "id": "ClEbUj1ZhMYk"
      }
    },
    {
      "cell_type": "code",
      "source": [
        "fig, ax = plt.subplots()\n",
        "ax.plot(np.arange(epoch), cost, \"r\")\n",
        "ax.set_xlabel(\"Iterations\")\n",
        "ax.set_ylabel(\"Cost\")\n",
        "ax.set_title(\"MSE vs. Epoch\")"
      ],
      "metadata": {
        "colab": {
          "base_uri": "https://localhost:8080/",
          "height": 489
        },
        "id": "KTU5b004hQgb",
        "outputId": "470b08e4-c7a4-4614-869f-095638331581"
      },
      "execution_count": 88,
      "outputs": [
        {
          "output_type": "execute_result",
          "data": {
            "text/plain": [
              "Text(0.5, 1.0, 'MSE vs. Epoch')"
            ]
          },
          "metadata": {},
          "execution_count": 88
        },
        {
          "output_type": "display_data",
          "data": {
            "text/plain": [
              "<Figure size 640x480 with 1 Axes>"
            ],
            "image/png": "[encoded data removed]"
          },
          "metadata": {}
        }
      ]
    },
    {
      "cell_type": "code",
      "source": [
        "plot_line(X, y, w0, w1)"
      ],
      "metadata": {
        "colab": {
          "base_uri": "https://localhost:8080/",
          "height": 430
        },
        "id": "B9URw4UEh22E",
        "outputId": "4da93d09-5fb8-439c-8bdb-aa7b8baae36e"
      },
      "execution_count": 90,
      "outputs": [
        {
          "output_type": "display_data",
          "data": {
            "text/plain": [
              "<Figure size 640x480 with 1 Axes>"
            ],
            "image/png": "[encoded data removed]"
          },
          "metadata": {}
        }
      ]
    },
    {
      "cell_type": "markdown",
      "source": [
        "### Making a prediction"
      ],
      "metadata": {
        "id": "4o2fzbEMjWfM"
      }
    },
    {
      "cell_type": "code",
      "source": [
        "# Making a prediction, now with optimized cost\n",
        "y_hat(1.5, w0, w1)"
      ],
      "metadata": {
        "colab": {
          "base_uri": "https://localhost:8080/"
        },
        "id": "A1wzF0J0jZYa",
        "outputId": "1935ab1a-9294-4aa2-f9d5-c5172275e07b"
      },
      "execution_count": 19,
      "outputs": [
        {
          "output_type": "execute_result",
          "data": {
            "text/plain": [
              "1.1299997667248023"
            ]
          },
          "metadata": {},
          "execution_count": 19
        }
      ]
    },
    {
      "cell_type": "markdown",
      "source": [
        "### For real-world cases, you only need to save the values from $w_0$ and $w_1$, and uses it on the equation that describes the linear regression line."
      ],
      "metadata": {
        "id": "5RyhqbDxj9Nw"
      }
    },
    {
      "cell_type": "code",
      "source": [
        "print(f\"w0 = {w0}, w1 = {w1}\")"
      ],
      "metadata": {
        "colab": {
          "base_uri": "https://localhost:8080/"
        },
        "id": "p1-vmrJYkudp",
        "outputId": "3c85fca0-0f3c-4699-948b-01dd59e2fd92"
      },
      "execution_count": 20,
      "outputs": [
        {
          "output_type": "stream",
          "name": "stdout",
          "text": [
            "w0 = 0.31999994168120066, w1 = 0.539999883362401\n"
          ]
        }
      ]
    },
    {
      "cell_type": "markdown",
      "source": [
        "#### Let's say you have $x = 6.7$"
      ],
      "metadata": {
        "id": "fbGuK1UFkmKu"
      }
    },
    {
      "cell_type": "code",
      "source": [
        "# y = w0 + w1 * x\n",
        "print(w0 + w1 * 6.7)"
      ],
      "metadata": {
        "colab": {
          "base_uri": "https://localhost:8080/"
        },
        "id": "3V19ij89k45S",
        "outputId": "bd234c75-65f6-4971-b7ec-4fffa8c140fb"
      },
      "execution_count": 32,
      "outputs": [
        {
          "output_type": "stream",
          "name": "stdout",
          "text": [
            "3.9379999999999757\n"
          ]
        }
      ]
    }
  ]
}
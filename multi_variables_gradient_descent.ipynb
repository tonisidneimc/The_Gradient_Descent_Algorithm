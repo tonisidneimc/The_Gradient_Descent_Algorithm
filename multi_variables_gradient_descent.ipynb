{
  "nbformat": 4,
  "nbformat_minor": 0,
  "metadata": {
    "colab": {
      "provenance": []
    },
    "kernelspec": {
      "name": "python3",
      "display_name": "Python 3"
    },
    "language_info": {
      "name": "python"
    }
  },
  "cells": [
    {
      "cell_type": "markdown",
      "source": [
        "# Multi-Variable Stochastic Gradient Descent"
      ],
      "metadata": {
        "id": "T5EmWfuhVxoL"
      }
    },
    {
      "cell_type": "code",
      "execution_count": 1,
      "metadata": {
        "id": "AbGc0efBU5mQ"
      },
      "outputs": [],
      "source": [
        "import numpy as np\n",
        "import pandas as pd\n",
        "import matplotlib.pyplot as plt\n",
        "\n",
        "%matplotlib inline"
      ]
    },
    {
      "cell_type": "markdown",
      "source": [
        "### Apartment price dataframe"
      ],
      "metadata": {
        "id": "g3YfKBF7WAsh"
      }
    },
    {
      "cell_type": "code",
      "source": [
        "df = pd.read_csv(\"prices.csv\")\n",
        "df.head()"
      ],
      "metadata": {
        "colab": {
          "base_uri": "https://localhost:8080/",
          "height": 206
        },
        "id": "1f1qCP0lVtgT",
        "outputId": "99aa81f7-1133-4acb-c48a-3740b1a182b3"
      },
      "execution_count": 2,
      "outputs": [
        {
          "output_type": "execute_result",
          "data": {
            "text/plain": [
              "   size  bedroom   price\n",
              "0  2104        3  399900\n",
              "1  1600        3  329900\n",
              "2  2400        3  369000\n",
              "3  1416        2  232000\n",
              "4  3000        4  539900"
            ],
            "text/html": [
              "\n",
              "  <div id=\"df-af7b1526-ffb6-486e-b259-c653a55ad437\" class=\"colab-df-container\">\n",
              "    <div>\n",
              "<style scoped>\n",
              "    .dataframe tbody tr th:only-of-type {\n",
              "        vertical-align: middle;\n",
              "    }\n",
              "\n",
              "    .dataframe tbody tr th {\n",
              "        vertical-align: top;\n",
              "    }\n",
              "\n",
              "    .dataframe thead th {\n",
              "        text-align: right;\n",
              "    }\n",
              "</style>\n",
              "<table border=\"1\" class=\"dataframe\">\n",
              "  <thead>\n",
              "    <tr style=\"text-align: right;\">\n",
              "      <th></th>\n",
              "      <th>size</th>\n",
              "      <th>bedroom</th>\n",
              "      <th>price</th>\n",
              "    </tr>\n",
              "  </thead>\n",
              "  <tbody>\n",
              "    <tr>\n",
              "      <th>0</th>\n",
              "      <td>2104</td>\n",
              "      <td>3</td>\n",
              "      <td>399900</td>\n",
              "    </tr>\n",
              "    <tr>\n",
              "      <th>1</th>\n",
              "      <td>1600</td>\n",
              "      <td>3</td>\n",
              "      <td>329900</td>\n",
              "    </tr>\n",
              "    <tr>\n",
              "      <th>2</th>\n",
              "      <td>2400</td>\n",
              "      <td>3</td>\n",
              "      <td>369000</td>\n",
              "    </tr>\n",
              "    <tr>\n",
              "      <th>3</th>\n",
              "      <td>1416</td>\n",
              "      <td>2</td>\n",
              "      <td>232000</td>\n",
              "    </tr>\n",
              "    <tr>\n",
              "      <th>4</th>\n",
              "      <td>3000</td>\n",
              "      <td>4</td>\n",
              "      <td>539900</td>\n",
              "    </tr>\n",
              "  </tbody>\n",
              "</table>\n",
              "</div>\n",
              "    <div class=\"colab-df-buttons\">\n",
              "\n",
              "  <div class=\"colab-df-container\">\n",
              "    <button class=\"colab-df-convert\" onclick=\"convertToInteractive('df-af7b1526-ffb6-486e-b259-c653a55ad437')\"\n",
              "            title=\"Convert this dataframe to an interactive table.\"\n",
              "            style=\"display:none;\">\n",
              "\n",
              "  <svg xmlns=\"http://www.w3.org/2000/svg\" height=\"24px\" viewBox=\"0 -960 960 960\">\n",
              "    <path d=\"M120-120v-720h720v720H120Zm60-500h600v-160H180v160Zm220 220h160v-160H400v160Zm0 220h160v-160H400v160ZM180-400h160v-160H180v160Zm440 0h160v-160H620v160ZM180-180h160v-160H180v160Zm440 0h160v-160H620v160Z\"/>\n",
              "  </svg>\n",
              "    </button>\n",
              "\n",
              "  <style>\n",
              "    .colab-df-container {\n",
              "      display:flex;\n",
              "      gap: 12px;\n",
              "    }\n",
              "\n",
              "    .colab-df-convert {\n",
              "      background-color: #E8F0FE;\n",
              "      border: none;\n",
              "      border-radius: 50%;\n",
              "      cursor: pointer;\n",
              "      display: none;\n",
              "      fill: #1967D2;\n",
              "      height: 32px;\n",
              "      padding: 0 0 0 0;\n",
              "      width: 32px;\n",
              "    }\n",
              "\n",
              "    .colab-df-convert:hover {\n",
              "      background-color: #E2EBFA;\n",
              "      box-shadow: 0px 1px 2px rgba(60, 64, 67, 0.3), 0px 1px 3px 1px rgba(60, 64, 67, 0.15);\n",
              "      fill: #174EA6;\n",
              "    }\n",
              "\n",
              "    .colab-df-buttons div {\n",
              "      margin-bottom: 4px;\n",
              "    }\n",
              "\n",
              "    [theme=dark] .colab-df-convert {\n",
              "      background-color: #3B4455;\n",
              "      fill: #D2E3FC;\n",
              "    }\n",
              "\n",
              "    [theme=dark] .colab-df-convert:hover {\n",
              "      background-color: #434B5C;\n",
              "      box-shadow: 0px 1px 3px 1px rgba(0, 0, 0, 0.15);\n",
              "      filter: drop-shadow(0px 1px 2px rgba(0, 0, 0, 0.3));\n",
              "      fill: #FFFFFF;\n",
              "    }\n",
              "  </style>\n",
              "\n",
              "    <script>\n",
              "      const buttonEl =\n",
              "        document.querySelector('#df-af7b1526-ffb6-486e-b259-c653a55ad437 button.colab-df-convert');\n",
              "      buttonEl.style.display =\n",
              "        google.colab.kernel.accessAllowed ? 'block' : 'none';\n",
              "\n",
              "      async function convertToInteractive(key) {\n",
              "        const element = document.querySelector('#df-af7b1526-ffb6-486e-b259-c653a55ad437');\n",
              "        const dataTable =\n",
              "          await google.colab.kernel.invokeFunction('convertToInteractive',\n",
              "                                                    [key], {});\n",
              "        if (!dataTable) return;\n",
              "\n",
              "        const docLinkHtml = 'Like what you see? Visit the ' +\n",
              "          '<a target=\"_blank\" href=https://colab.research.google.com/notebooks/data_table.ipynb>data table notebook</a>'\n",
              "          + ' to learn more about interactive tables.';\n",
              "        element.innerHTML = '';\n",
              "        dataTable['output_type'] = 'display_data';\n",
              "        await google.colab.output.renderOutput(dataTable, element);\n",
              "        const docLink = document.createElement('div');\n",
              "        docLink.innerHTML = docLinkHtml;\n",
              "        element.appendChild(docLink);\n",
              "      }\n",
              "    </script>\n",
              "  </div>\n",
              "\n",
              "\n",
              "<div id=\"df-01cef8e5-383f-4d48-b5af-1b6a2015be97\">\n",
              "  <button class=\"colab-df-quickchart\" onclick=\"quickchart('df-01cef8e5-383f-4d48-b5af-1b6a2015be97')\"\n",
              "            title=\"Suggest charts.\"\n",
              "            style=\"display:none;\">\n",
              "\n",
              "<svg xmlns=\"http://www.w3.org/2000/svg\" height=\"24px\"viewBox=\"0 0 24 24\"\n",
              "     width=\"24px\">\n",
              "    <g>\n",
              "        <path d=\"M19 3H5c-1.1 0-2 .9-2 2v14c0 1.1.9 2 2 2h14c1.1 0 2-.9 2-2V5c0-1.1-.9-2-2-2zM9 17H7v-7h2v7zm4 0h-2V7h2v10zm4 0h-2v-4h2v4z\"/>\n",
              "    </g>\n",
              "</svg>\n",
              "  </button>\n",
              "\n",
              "<style>\n",
              "  .colab-df-quickchart {\n",
              "      --bg-color: #E8F0FE;\n",
              "      --fill-color: #1967D2;\n",
              "      --hover-bg-color: #E2EBFA;\n",
              "      --hover-fill-color: #174EA6;\n",
              "      --disabled-fill-color: #AAA;\n",
              "      --disabled-bg-color: #DDD;\n",
              "  }\n",
              "\n",
              "  [theme=dark] .colab-df-quickchart {\n",
              "      --bg-color: #3B4455;\n",
              "      --fill-color: #D2E3FC;\n",
              "      --hover-bg-color: #434B5C;\n",
              "      --hover-fill-color: #FFFFFF;\n",
              "      --disabled-bg-color: #3B4455;\n",
              "      --disabled-fill-color: #666;\n",
              "  }\n",
              "\n",
              "  .colab-df-quickchart {\n",
              "    background-color: var(--bg-color);\n",
              "    border: none;\n",
              "    border-radius: 50%;\n",
              "    cursor: pointer;\n",
              "    display: none;\n",
              "    fill: var(--fill-color);\n",
              "    height: 32px;\n",
              "    padding: 0;\n",
              "    width: 32px;\n",
              "  }\n",
              "\n",
              "  .colab-df-quickchart:hover {\n",
              "    background-color: var(--hover-bg-color);\n",
              "    box-shadow: 0 1px 2px rgba(60, 64, 67, 0.3), 0 1px 3px 1px rgba(60, 64, 67, 0.15);\n",
              "    fill: var(--button-hover-fill-color);\n",
              "  }\n",
              "\n",
              "  .colab-df-quickchart-complete:disabled,\n",
              "  .colab-df-quickchart-complete:disabled:hover {\n",
              "    background-color: var(--disabled-bg-color);\n",
              "    fill: var(--disabled-fill-color);\n",
              "    box-shadow: none;\n",
              "  }\n",
              "\n",
              "  .colab-df-spinner {\n",
              "    border: 2px solid var(--fill-color);\n",
              "    border-color: transparent;\n",
              "    border-bottom-color: var(--fill-color);\n",
              "    animation:\n",
              "      spin 1s steps(1) infinite;\n",
              "  }\n",
              "\n",
              "  @keyframes spin {\n",
              "    0% {\n",
              "      border-color: transparent;\n",
              "      border-bottom-color: var(--fill-color);\n",
              "      border-left-color: var(--fill-color);\n",
              "    }\n",
              "    20% {\n",
              "      border-color: transparent;\n",
              "      border-left-color: var(--fill-color);\n",
              "      border-top-color: var(--fill-color);\n",
              "    }\n",
              "    30% {\n",
              "      border-color: transparent;\n",
              "      border-left-color: var(--fill-color);\n",
              "      border-top-color: var(--fill-color);\n",
              "      border-right-color: var(--fill-color);\n",
              "    }\n",
              "    40% {\n",
              "      border-color: transparent;\n",
              "      border-right-color: var(--fill-color);\n",
              "      border-top-color: var(--fill-color);\n",
              "    }\n",
              "    60% {\n",
              "      border-color: transparent;\n",
              "      border-right-color: var(--fill-color);\n",
              "    }\n",
              "    80% {\n",
              "      border-color: transparent;\n",
              "      border-right-color: var(--fill-color);\n",
              "      border-bottom-color: var(--fill-color);\n",
              "    }\n",
              "    90% {\n",
              "      border-color: transparent;\n",
              "      border-bottom-color: var(--fill-color);\n",
              "    }\n",
              "  }\n",
              "</style>\n",
              "\n",
              "  <script>\n",
              "    async function quickchart(key) {\n",
              "      const quickchartButtonEl =\n",
              "        document.querySelector('#' + key + ' button');\n",
              "      quickchartButtonEl.disabled = true;  // To prevent multiple clicks.\n",
              "      quickchartButtonEl.classList.add('colab-df-spinner');\n",
              "      try {\n",
              "        const charts = await google.colab.kernel.invokeFunction(\n",
              "            'suggestCharts', [key], {});\n",
              "      } catch (error) {\n",
              "        console.error('Error during call to suggestCharts:', error);\n",
              "      }\n",
              "      quickchartButtonEl.classList.remove('colab-df-spinner');\n",
              "      quickchartButtonEl.classList.add('colab-df-quickchart-complete');\n",
              "    }\n",
              "    (() => {\n",
              "      let quickchartButtonEl =\n",
              "        document.querySelector('#df-01cef8e5-383f-4d48-b5af-1b6a2015be97 button');\n",
              "      quickchartButtonEl.style.display =\n",
              "        google.colab.kernel.accessAllowed ? 'block' : 'none';\n",
              "    })();\n",
              "  </script>\n",
              "</div>\n",
              "    </div>\n",
              "  </div>\n"
            ]
          },
          "metadata": {},
          "execution_count": 2
        }
      ]
    },
    {
      "cell_type": "markdown",
      "source": [
        "## Preprocessing"
      ],
      "metadata": {
        "id": "kzQlLfl3WX-u"
      }
    },
    {
      "cell_type": "markdown",
      "source": [
        "### Normalizing"
      ],
      "metadata": {
        "id": "QOtru989WnB7"
      }
    },
    {
      "cell_type": "code",
      "source": [
        "df_norm = (df - df.mean()) / df.std()\n",
        "df_norm.head()"
      ],
      "metadata": {
        "colab": {
          "base_uri": "https://localhost:8080/",
          "height": 206
        },
        "id": "lwts2AlLWV0Z",
        "outputId": "c8117d61-44ae-49aa-846d-8a45bed0e8db"
      },
      "execution_count": 3,
      "outputs": [
        {
          "output_type": "execute_result",
          "data": {
            "text/plain": [
              "       size   bedroom     price\n",
              "0  0.130010 -0.223675  0.475747\n",
              "1 -0.504190 -0.223675 -0.084074\n",
              "2  0.502476 -0.223675  0.228626\n",
              "3 -0.735723 -1.537767 -0.867025\n",
              "4  1.257476  1.090417  1.595389"
            ],
            "text/html": [
              "\n",
              "  <div id=\"df-357d8c33-af75-40f0-919f-cb2af09e975f\" class=\"colab-df-container\">\n",
              "    <div>\n",
              "<style scoped>\n",
              "    .dataframe tbody tr th:only-of-type {\n",
              "        vertical-align: middle;\n",
              "    }\n",
              "\n",
              "    .dataframe tbody tr th {\n",
              "        vertical-align: top;\n",
              "    }\n",
              "\n",
              "    .dataframe thead th {\n",
              "        text-align: right;\n",
              "    }\n",
              "</style>\n",
              "<table border=\"1\" class=\"dataframe\">\n",
              "  <thead>\n",
              "    <tr style=\"text-align: right;\">\n",
              "      <th></th>\n",
              "      <th>size</th>\n",
              "      <th>bedroom</th>\n",
              "      <th>price</th>\n",
              "    </tr>\n",
              "  </thead>\n",
              "  <tbody>\n",
              "    <tr>\n",
              "      <th>0</th>\n",
              "      <td>0.130010</td>\n",
              "      <td>-0.223675</td>\n",
              "      <td>0.475747</td>\n",
              "    </tr>\n",
              "    <tr>\n",
              "      <th>1</th>\n",
              "      <td>-0.504190</td>\n",
              "      <td>-0.223675</td>\n",
              "      <td>-0.084074</td>\n",
              "    </tr>\n",
              "    <tr>\n",
              "      <th>2</th>\n",
              "      <td>0.502476</td>\n",
              "      <td>-0.223675</td>\n",
              "      <td>0.228626</td>\n",
              "    </tr>\n",
              "    <tr>\n",
              "      <th>3</th>\n",
              "      <td>-0.735723</td>\n",
              "      <td>-1.537767</td>\n",
              "      <td>-0.867025</td>\n",
              "    </tr>\n",
              "    <tr>\n",
              "      <th>4</th>\n",
              "      <td>1.257476</td>\n",
              "      <td>1.090417</td>\n",
              "      <td>1.595389</td>\n",
              "    </tr>\n",
              "  </tbody>\n",
              "</table>\n",
              "</div>\n",
              "    <div class=\"colab-df-buttons\">\n",
              "\n",
              "  <div class=\"colab-df-container\">\n",
              "    <button class=\"colab-df-convert\" onclick=\"convertToInteractive('df-357d8c33-af75-40f0-919f-cb2af09e975f')\"\n",
              "            title=\"Convert this dataframe to an interactive table.\"\n",
              "            style=\"display:none;\">\n",
              "\n",
              "  <svg xmlns=\"http://www.w3.org/2000/svg\" height=\"24px\" viewBox=\"0 -960 960 960\">\n",
              "    <path d=\"M120-120v-720h720v720H120Zm60-500h600v-160H180v160Zm220 220h160v-160H400v160Zm0 220h160v-160H400v160ZM180-400h160v-160H180v160Zm440 0h160v-160H620v160ZM180-180h160v-160H180v160Zm440 0h160v-160H620v160Z\"/>\n",
              "  </svg>\n",
              "    </button>\n",
              "\n",
              "  <style>\n",
              "    .colab-df-container {\n",
              "      display:flex;\n",
              "      gap: 12px;\n",
              "    }\n",
              "\n",
              "    .colab-df-convert {\n",
              "      background-color: #E8F0FE;\n",
              "      border: none;\n",
              "      border-radius: 50%;\n",
              "      cursor: pointer;\n",
              "      display: none;\n",
              "      fill: #1967D2;\n",
              "      height: 32px;\n",
              "      padding: 0 0 0 0;\n",
              "      width: 32px;\n",
              "    }\n",
              "\n",
              "    .colab-df-convert:hover {\n",
              "      background-color: #E2EBFA;\n",
              "      box-shadow: 0px 1px 2px rgba(60, 64, 67, 0.3), 0px 1px 3px 1px rgba(60, 64, 67, 0.15);\n",
              "      fill: #174EA6;\n",
              "    }\n",
              "\n",
              "    .colab-df-buttons div {\n",
              "      margin-bottom: 4px;\n",
              "    }\n",
              "\n",
              "    [theme=dark] .colab-df-convert {\n",
              "      background-color: #3B4455;\n",
              "      fill: #D2E3FC;\n",
              "    }\n",
              "\n",
              "    [theme=dark] .colab-df-convert:hover {\n",
              "      background-color: #434B5C;\n",
              "      box-shadow: 0px 1px 3px 1px rgba(0, 0, 0, 0.15);\n",
              "      filter: drop-shadow(0px 1px 2px rgba(0, 0, 0, 0.3));\n",
              "      fill: #FFFFFF;\n",
              "    }\n",
              "  </style>\n",
              "\n",
              "    <script>\n",
              "      const buttonEl =\n",
              "        document.querySelector('#df-357d8c33-af75-40f0-919f-cb2af09e975f button.colab-df-convert');\n",
              "      buttonEl.style.display =\n",
              "        google.colab.kernel.accessAllowed ? 'block' : 'none';\n",
              "\n",
              "      async function convertToInteractive(key) {\n",
              "        const element = document.querySelector('#df-357d8c33-af75-40f0-919f-cb2af09e975f');\n",
              "        const dataTable =\n",
              "          await google.colab.kernel.invokeFunction('convertToInteractive',\n",
              "                                                    [key], {});\n",
              "        if (!dataTable) return;\n",
              "\n",
              "        const docLinkHtml = 'Like what you see? Visit the ' +\n",
              "          '<a target=\"_blank\" href=https://colab.research.google.com/notebooks/data_table.ipynb>data table notebook</a>'\n",
              "          + ' to learn more about interactive tables.';\n",
              "        element.innerHTML = '';\n",
              "        dataTable['output_type'] = 'display_data';\n",
              "        await google.colab.output.renderOutput(dataTable, element);\n",
              "        const docLink = document.createElement('div');\n",
              "        docLink.innerHTML = docLinkHtml;\n",
              "        element.appendChild(docLink);\n",
              "      }\n",
              "    </script>\n",
              "  </div>\n",
              "\n",
              "\n",
              "<div id=\"df-fe78f882-9749-4ded-a052-d8635dc81035\">\n",
              "  <button class=\"colab-df-quickchart\" onclick=\"quickchart('df-fe78f882-9749-4ded-a052-d8635dc81035')\"\n",
              "            title=\"Suggest charts.\"\n",
              "            style=\"display:none;\">\n",
              "\n",
              "<svg xmlns=\"http://www.w3.org/2000/svg\" height=\"24px\"viewBox=\"0 0 24 24\"\n",
              "     width=\"24px\">\n",
              "    <g>\n",
              "        <path d=\"M19 3H5c-1.1 0-2 .9-2 2v14c0 1.1.9 2 2 2h14c1.1 0 2-.9 2-2V5c0-1.1-.9-2-2-2zM9 17H7v-7h2v7zm4 0h-2V7h2v10zm4 0h-2v-4h2v4z\"/>\n",
              "    </g>\n",
              "</svg>\n",
              "  </button>\n",
              "\n",
              "<style>\n",
              "  .colab-df-quickchart {\n",
              "      --bg-color: #E8F0FE;\n",
              "      --fill-color: #1967D2;\n",
              "      --hover-bg-color: #E2EBFA;\n",
              "      --hover-fill-color: #174EA6;\n",
              "      --disabled-fill-color: #AAA;\n",
              "      --disabled-bg-color: #DDD;\n",
              "  }\n",
              "\n",
              "  [theme=dark] .colab-df-quickchart {\n",
              "      --bg-color: #3B4455;\n",
              "      --fill-color: #D2E3FC;\n",
              "      --hover-bg-color: #434B5C;\n",
              "      --hover-fill-color: #FFFFFF;\n",
              "      --disabled-bg-color: #3B4455;\n",
              "      --disabled-fill-color: #666;\n",
              "  }\n",
              "\n",
              "  .colab-df-quickchart {\n",
              "    background-color: var(--bg-color);\n",
              "    border: none;\n",
              "    border-radius: 50%;\n",
              "    cursor: pointer;\n",
              "    display: none;\n",
              "    fill: var(--fill-color);\n",
              "    height: 32px;\n",
              "    padding: 0;\n",
              "    width: 32px;\n",
              "  }\n",
              "\n",
              "  .colab-df-quickchart:hover {\n",
              "    background-color: var(--hover-bg-color);\n",
              "    box-shadow: 0 1px 2px rgba(60, 64, 67, 0.3), 0 1px 3px 1px rgba(60, 64, 67, 0.15);\n",
              "    fill: var(--button-hover-fill-color);\n",
              "  }\n",
              "\n",
              "  .colab-df-quickchart-complete:disabled,\n",
              "  .colab-df-quickchart-complete:disabled:hover {\n",
              "    background-color: var(--disabled-bg-color);\n",
              "    fill: var(--disabled-fill-color);\n",
              "    box-shadow: none;\n",
              "  }\n",
              "\n",
              "  .colab-df-spinner {\n",
              "    border: 2px solid var(--fill-color);\n",
              "    border-color: transparent;\n",
              "    border-bottom-color: var(--fill-color);\n",
              "    animation:\n",
              "      spin 1s steps(1) infinite;\n",
              "  }\n",
              "\n",
              "  @keyframes spin {\n",
              "    0% {\n",
              "      border-color: transparent;\n",
              "      border-bottom-color: var(--fill-color);\n",
              "      border-left-color: var(--fill-color);\n",
              "    }\n",
              "    20% {\n",
              "      border-color: transparent;\n",
              "      border-left-color: var(--fill-color);\n",
              "      border-top-color: var(--fill-color);\n",
              "    }\n",
              "    30% {\n",
              "      border-color: transparent;\n",
              "      border-left-color: var(--fill-color);\n",
              "      border-top-color: var(--fill-color);\n",
              "      border-right-color: var(--fill-color);\n",
              "    }\n",
              "    40% {\n",
              "      border-color: transparent;\n",
              "      border-right-color: var(--fill-color);\n",
              "      border-top-color: var(--fill-color);\n",
              "    }\n",
              "    60% {\n",
              "      border-color: transparent;\n",
              "      border-right-color: var(--fill-color);\n",
              "    }\n",
              "    80% {\n",
              "      border-color: transparent;\n",
              "      border-right-color: var(--fill-color);\n",
              "      border-bottom-color: var(--fill-color);\n",
              "    }\n",
              "    90% {\n",
              "      border-color: transparent;\n",
              "      border-bottom-color: var(--fill-color);\n",
              "    }\n",
              "  }\n",
              "</style>\n",
              "\n",
              "  <script>\n",
              "    async function quickchart(key) {\n",
              "      const quickchartButtonEl =\n",
              "        document.querySelector('#' + key + ' button');\n",
              "      quickchartButtonEl.disabled = true;  // To prevent multiple clicks.\n",
              "      quickchartButtonEl.classList.add('colab-df-spinner');\n",
              "      try {\n",
              "        const charts = await google.colab.kernel.invokeFunction(\n",
              "            'suggestCharts', [key], {});\n",
              "      } catch (error) {\n",
              "        console.error('Error during call to suggestCharts:', error);\n",
              "      }\n",
              "      quickchartButtonEl.classList.remove('colab-df-spinner');\n",
              "      quickchartButtonEl.classList.add('colab-df-quickchart-complete');\n",
              "    }\n",
              "    (() => {\n",
              "      let quickchartButtonEl =\n",
              "        document.querySelector('#df-fe78f882-9749-4ded-a052-d8635dc81035 button');\n",
              "      quickchartButtonEl.style.display =\n",
              "        google.colab.kernel.accessAllowed ? 'block' : 'none';\n",
              "    })();\n",
              "  </script>\n",
              "</div>\n",
              "    </div>\n",
              "  </div>\n"
            ]
          },
          "metadata": {},
          "execution_count": 3
        }
      ]
    },
    {
      "cell_type": "markdown",
      "source": [
        "## Getting the feature size"
      ],
      "metadata": {
        "id": "kGkzJSJTXMZE"
      }
    },
    {
      "cell_type": "code",
      "source": [
        "n_features = len(df_norm.columns) - 1 # ignoring the target 'price'\n",
        "n_features"
      ],
      "metadata": {
        "colab": {
          "base_uri": "https://localhost:8080/"
        },
        "id": "q1n4FkCHXgSc",
        "outputId": "05f92453-8bb8-49be-9caa-aa2eb0b950b4"
      },
      "execution_count": 4,
      "outputs": [
        {
          "output_type": "execute_result",
          "data": {
            "text/plain": [
              "2"
            ]
          },
          "metadata": {},
          "execution_count": 4
        }
      ]
    },
    {
      "cell_type": "markdown",
      "source": [
        "## Creating vector of $W$s based on the feature size"
      ],
      "metadata": {
        "id": "NFGyxnB9XzR_"
      }
    },
    {
      "cell_type": "code",
      "source": [
        "# Create an array with random samples from a uniform distribution over [0, 1)\n",
        "w = np.random.rand(1, n_features+1)\n",
        "w"
      ],
      "metadata": {
        "colab": {
          "base_uri": "https://localhost:8080/"
        },
        "id": "9_xCNONFYZnV",
        "outputId": "e87c4315-bd04-454b-e9d0-090a4e767e72"
      },
      "execution_count": 6,
      "outputs": [
        {
          "output_type": "execute_result",
          "data": {
            "text/plain": [
              "array([[0.59072005, 0.65430295, 0.08095251]])"
            ]
          },
          "metadata": {},
          "execution_count": 6
        }
      ]
    },
    {
      "cell_type": "markdown",
      "source": [
        "## Extracting the features and the target"
      ],
      "metadata": {
        "id": "f4KFn5gZZLT5"
      }
    },
    {
      "cell_type": "code",
      "source": [
        "X = np.array(df_norm.drop('price', axis=1))\n",
        "y = df_norm.iloc[:, 2:3].values"
      ],
      "metadata": {
        "id": "-nBZlHNkZO2X"
      },
      "execution_count": 7,
      "outputs": []
    },
    {
      "cell_type": "markdown",
      "source": [
        "## Creating $X_{0}$"
      ],
      "metadata": {
        "id": "3y6t51KgZob9"
      }
    },
    {
      "cell_type": "code",
      "source": [
        "def insert_ones(X):\n",
        "    ones = np.ones([X.shape[0], 1])\n",
        "    return np.concatenate((ones, X), axis=1)"
      ],
      "metadata": {
        "id": "rNBOgxlNZk-F"
      },
      "execution_count": 13,
      "outputs": []
    },
    {
      "cell_type": "code",
      "source": [
        "X = insert_ones(X)"
      ],
      "metadata": {
        "id": "IXhluWZQe_23"
      },
      "execution_count": 18,
      "outputs": []
    },
    {
      "cell_type": "markdown",
      "source": [
        "## Defining the cost\n",
        "\n",
        "![CodeCogsEqn.gif](data:image/gif;base64,R0lGODdh4QAyAMQAAP///wAAAHZ2diIiIszMzDIyMmZmZrq6uoiIiBAQEKqqqu7u7tzc3FRUVJiYmERERFFRUQAAAAAAAAAAAAAAAAAAAAAAAAAAAAAAAAAAAAAAAAAAAAAAAAAAAAAAAAAAACwAAAAA4QAyAAAF/iAgjmRpnmiqrmxbLohwKMbi3niu73zv/8CUAxAgAASKoHLJbDqfP8JD1DBCr9isdrtCIEQJrnhMLvOqgEODcTC73/DdoWDFTQGLxjDO7/sBDAgERX+FhocthIiLjIeKjZCRbo+SlZZYlJeam0CZfV8iCkMCnyOiR5xbniMJAQEJsLGysK61rm08CDYvoG+6JjCpWasiDq53KwwODcc8CwYoNW/P0bs6ogLQwijEIg+uey3PAQw7DknFDabhZecjy+s7gVSk2yYBuCgLreQ4NMC9UAgoB2DIgF0MtJkZWAzAQREJWwQEQKBAMWRHBqwqEMBAPhEHBMRwoIyEgAEJ/gwIWNkgZZMFApgVEFDHxAFXA3IIsEaFxQNrDCyOwEjm54igJIjqU1hiZQkECdCRUFCAqQgkIw4k+AjgAdEDVskIcBUWBwKuJ4xeDZfnjdojbNW1OPXiIQkEBSYuuMkVbImcJQJMBDCYDMcAUnUIXWGAoMMFewjUM9N4xMHIk1ksHoGGBJsGVhUM4gnAADtUJAbVDBVnnyvH/k6jUCDVNEF3bmiPsF0s8QqsIwQBIjEKIwEYgJPKPfo0wLtCClxtvvEAtorlJbCb0c4Zh5qsuAIOcZAcQJIHYaPnXT30DgPucQy4yuwiTOp/obSJNkHAN5T+CuG3Xwn95WAfA7Zk/jbETaaA4R9F3wRgFwkJPLDSTIw1oOGGHNKnhEb45FDeAkkkYMUDvTjAE2RbkAiAid6kuKJsLDingosI2sCAETmqcMAA2iFoBQFo8YHgK6SpgFRWFNn4IntltDEIK1D6kECSU+1CCDrkmWAdVSUYM0IdD/Zgy5mutGBMAPChUJEJMYkwpRMHeGXnnQ/QeIRcc+LxIZbPOXjALhoS2Jd2DUwHSJlvMMMoMOWJMEB4SuWwAIpBTCoCAshUF4R9Qowwk1QJnIaAbw1wlYCHZYlgAIewNuDhEhjiAKoICwSwC6Y/pApErrv2cquVKhAQTqJH9aMccRMhyJVThRSaQwGk/tkoJBDDmgkRIQQYUMAeMYhyADyEWXHqL55VetUAA4BrhQAcGVATKSut9Gy89TagEaBu4LXDqWEK4MBYuCJg2sCbIuFAG+fugoS/QQw8sJNesGaiAhA8BkAB5fh6AFcO6GnPDwpMiMN7KBjc0JUAVFFifwh43MYDRsTQhMreWMEAA8gsGQaCtA321shKEJCAdXZYUwAuR495xwMH7OweYgp8QQBgHgWxNBiO3epALzZLYV6rKBO9BANb+RBRT6Wx8zUYNrw9NnHamNyDXKaNsIBFe/h6VRIiibZcTdKY/aHIAtnE5deotoFwy7gQMLgCpDBw0KMuhAwwCQYMaJxH2Q50DhddxVRpuA4W5hD6CUj/dU4vGAlMV+cKNFBYIa2fbh4CKobc2QkGqLtUiJZGqvvxJbBh9B4KqAvxjWw4EGG2LfiF/PUlJNHlpvDdhOb338+6wqVDY4+9SpwVZrAB7Lfv/vvv82v+/PXloyz9+MOBoCkWFZn//1pwwGLQhzgAGvBm4ZCMAuRHOn0074AQJANtFBXBCkJhSRbMoOralDwKavCDJzDIAmBSrxIixIMgTOFRUOgZFqoQhAJrAQZfSENJQYaEJVwJQoxXwxTyxkcCKFXuejiCEAAAOw==)"
      ],
      "metadata": {
        "id": "LeUr44vwdI16"
      }
    },
    {
      "cell_type": "code",
      "source": [
        "def MSE(w, X, y):\n",
        "    n = len(X)\n",
        "    error = (X @ w.T - y)\n",
        "    cost = np.sum(np.power(error, 2))\n",
        "    return cost/n"
      ],
      "metadata": {
        "id": "3lNYsXNldNKQ"
      },
      "execution_count": 16,
      "outputs": []
    },
    {
      "cell_type": "markdown",
      "source": [
        "## Gradient Descent\n",
        "\n",
        "![CodeCogsEqn4.gif](data:image/gif;base64,R0lGODdhQwEyALMAAP///wAAAIiIiBAQEGZmZtzc3O7u7nZ2diIiIpiYmKqqqkRERFRUVDIyMszMzLq6uiwAAAAAQwEyAAAE/hDISau9OOvNu/+gZwjHoxBGqK5s675wLM90HSZA4ACHYv/AoHBILBo3joWEsTs6n9CodOoSCCQDqnbL7XpnTMCDUXh8z+i0GvZoNENKgIGBW9vveHtB4NDl/4CBghZ+g4aHiF2FiYyNjkGLj5KTlCCRlZiZmZeanR1XEgo4B55cnBQDAQEDrK2urKqxqmalfwIpFSO1VKcTCapxGwUJDMA1DQcJCwsJAgiDoACiPEMGBBgou1K9EwuqdR3WAQUzD7TMEqSBtxa6QQk+EsQT09pQAbQZBqnjICe50W5MGEBOWiBr2HABCBjjQEEcCHAVuCaAFQFyBg4EQKAOQIIB/gjiBak44KIcjRx9gRT5JWMxZG8uPFD1DMQBhQAYTCBpMuPGjh9DTiiQpUXGVAxwKViV9J3IeaHAIZyxQGGBBhTiLKsQgOG1IlspdK3w1ZHGAGVVCMgHIOyEsRTSegzWQkA/CQboAnEoD0BECRMp1ItRdUKyCXOWYBXbEYCDmEIYLH7b+PGkBqpYgpismGtlyAwYrjAQoGPjIIUBc9bL+YVJCRHrOFB3oKg8BDp9HalNIQHu3pT2qSroD1w62x5/666AADILBkVPo1Z4GG9uw5pbKBBJIMHDeHYRP3D7gDiR8HjHBytfaWmA1h0WmF8YQDz5+aRl9FHArshrvwbI/nbaGGBgcN0vukm2XAcOEOQCgn0p2FcQ/CXwnxEEqCLdBsjJU1+EkxnnEXQJ4NQCAg7S4MA/oXy13QTdfWdBhxyYcNEDFirl3Ir0BJCCZQTUlJ0GBTQFAAEMJKnkkhtK46NjOwQZihAEqLPPhEUgMAsINQn2JJBCEpHhfC8Y4MMATSwQzXUVsPkWCDwmAVE+JVIQIAUzkVMHb2ZeoBcNeXp0nBxD/rlCApyFZBkFBTT3QwGqDGBiBldZEOieWfTJQqPOVWACWoA69iEAaNKz45CSWsCpBaD0kYKISOjwAC7hwUpEHw7MKkGtH6i3zK+/2jqAcQ1YYUGDbL0ly7Kj/m7wSwBuZuAAfLjqSp+gLSCrAY/QbeArsMFecEBufVRQJ2K2AnjsAMlSIEC0HUD6ooeLOiHvUzp0KgOkOC1DJhHFDHmBAV0OFcC8HuUrxDAS9JHuibQIYKgHNHbQgMAT4xUAXTNtmMAB+pK15MgMNEkax6Vd8HHIH5SbVZNDIAMCjSfjmXIQGVHQAHwukIaLmi1UnIEZ/O4awsEU9EFmiQo0WeSkR7OktAVMw8wlceORAnUQSYbQwKRITzA1EEWay80KH0LKMpEZU/2Mb6/+q4GbBWyYAgECNyj3B3TbfaTAIdStgAkGFNlfEQLwvIEA2fUNRBKrvDHtRqK18PHH/s3e8LCqPZTRQ0wr09DA3lCM7ogCfwUObycCyAVCajBUTYPQUtAeiN4swK5JA7SkqELZMtwNuApJeFE8I0S1+0FgnuTWXQvZiE56CMZ2UX0iCGwurqfDO5JAM91rkMDaK9gOwhWmb4H+9HgsYLXKrrNvDwbyh3A8DGqGb0T+Z1QYIDEsI0Db2pEh5c3PepU7YBHK0KA6KCBjieNA4XDkjVUoEA3ruyAUfOCbnaxuJswKYQjfp8En8K+EUKjSBEKDgdYR4IUwjKEMZbg1FNpwF+x6S/1uyMMeXgBS9MCKAX1IxCL6YjIq1J4Rl2hDAYBjNgqooTS0Z6YBMvGKPNyOReKwyEUeVqqLYNwFVISxxTCa0XsAysgB1sjGm6jmjHDExBfJGMc6SqI6dLSjHrEXIDW2cY0SKdgeBwmIGHmrNt4h5BEiAAA7)"
      ],
      "metadata": {
        "id": "O4KGK-_Kav7n"
      }
    },
    {
      "cell_type": "code",
      "source": [
        "def gradient_descent(w, X, y, alpha, epoch):\n",
        "    cost = np.zeros(epoch)\n",
        "\n",
        "    for i in range(epoch):\n",
        "        w = w - (alpha/len(X)) * np.sum((X @ w.T - y) * X, axis=0)\n",
        "        cost[i] = MSE(w, X, y)\n",
        "\n",
        "    return w, cost"
      ],
      "metadata": {
        "id": "qptUSpXzayLQ"
      },
      "execution_count": 17,
      "outputs": []
    },
    {
      "cell_type": "markdown",
      "source": [
        "## Init parameters"
      ],
      "metadata": {
        "id": "ZQlQecmcfLv9"
      }
    },
    {
      "cell_type": "code",
      "source": [
        "alpha = 0.01\n",
        "epoch = 800"
      ],
      "metadata": {
        "id": "g4os16wffOoo"
      },
      "execution_count": 19,
      "outputs": []
    },
    {
      "cell_type": "markdown",
      "source": [
        "## Running"
      ],
      "metadata": {
        "id": "7OPByW5AfUZ6"
      }
    },
    {
      "cell_type": "code",
      "source": [
        "w, cost = gradient_descent(w, X, y, alpha, epoch)"
      ],
      "metadata": {
        "id": "nOS8O5gOfcuD"
      },
      "execution_count": 20,
      "outputs": []
    },
    {
      "cell_type": "markdown",
      "source": [
        "## Final cost"
      ],
      "metadata": {
        "id": "0Nb7ijBeflQh"
      }
    },
    {
      "cell_type": "code",
      "source": [
        "MSE(w, X, y)"
      ],
      "metadata": {
        "colab": {
          "base_uri": "https://localhost:8080/"
        },
        "id": "k25GV2o1fmy2",
        "outputId": "1953920f-c610-4de2-fbb1-b1d9a2e8fcf0"
      },
      "execution_count": 21,
      "outputs": [
        {
          "output_type": "execute_result",
          "data": {
            "text/plain": [
              "0.2614016831653309"
            ]
          },
          "metadata": {},
          "execution_count": 21
        }
      ]
    },
    {
      "cell_type": "markdown",
      "source": [
        "### Showing the cost evolution"
      ],
      "metadata": {
        "id": "goKdOizdfr4r"
      }
    },
    {
      "cell_type": "code",
      "source": [
        "fig, ax = plt.subplots()\n",
        "ax.plot(np.arange(epoch), cost, 'r')\n",
        "ax.set_xlabel(\"Iterations\")\n",
        "ax.set_ylabel(\"Cost\")\n",
        "ax.set_title(\"Error vs. Epoch\")"
      ],
      "metadata": {
        "colab": {
          "base_uri": "https://localhost:8080/",
          "height": 489
        },
        "id": "YJ-f67CifxBq",
        "outputId": "8663adb3-0c69-40a2-c215-75cd55e9673a"
      },
      "execution_count": 24,
      "outputs": [
        {
          "output_type": "execute_result",
          "data": {
            "text/plain": [
              "Text(0.5, 1.0, 'Error vs. Epoch')"
            ]
          },
          "metadata": {},
          "execution_count": 24
        },
        {
          "output_type": "display_data",
          "data": {
            "text/plain": [
              "<Figure size 640x480 with 1 Axes>"
            ],
            "image/png": "[encoded data removed]"
          },
          "metadata": {}
        }
      ]
    },
    {
      "cell_type": "markdown",
      "source": [
        "### Showing the weights"
      ],
      "metadata": {
        "id": "DVxui_8igSIC"
      }
    },
    {
      "cell_type": "code",
      "source": [
        "w"
      ],
      "metadata": {
        "colab": {
          "base_uri": "https://localhost:8080/"
        },
        "id": "QzuXg02pgUcN",
        "outputId": "e93ad152-c9bc-4ec0-c8e9-910696998173"
      },
      "execution_count": 25,
      "outputs": [
        {
          "output_type": "execute_result",
          "data": {
            "text/plain": [
              "array([[ 1.90343210e-04,  8.78994833e-01, -4.74080991e-02]])"
            ]
          },
          "metadata": {},
          "execution_count": 25
        }
      ]
    },
    {
      "cell_type": "markdown",
      "source": [
        "\n",
        "\n",
        "---\n",
        "\n"
      ],
      "metadata": {
        "id": "Sr0LZX__hN0E"
      }
    },
    {
      "cell_type": "markdown",
      "source": [
        "# PREDICTION - CHALLENGE\n",
        "\n",
        "TO PERFORM A REGRESSION USING MULTIPLE VARIABLES:\n",
        "\n",
        "- Receive new values ​​for [[size, bedroom]]\n",
        "- Preprocess using the mean and standard deviation of the original set\n",
        "- Perform the regression on the X @ w.T model\n",
        "- Destandardize the prediction value by obtaining the final regression value"
      ],
      "metadata": {
        "id": "2rUkofwZgy2n"
      }
    }
  ]
}